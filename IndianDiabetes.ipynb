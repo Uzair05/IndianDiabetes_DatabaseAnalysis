{
 "cells": [
  {
   "cell_type": "markdown",
   "metadata": {},
   "source": [
    "# PIMA Indian Diabetes Databse - ML Analysis"
   ]
  },
  {
   "cell_type": "code",
   "execution_count": 1,
   "metadata": {},
   "outputs": [],
   "source": [
    "import pandas as pd\n",
    "import numpy as np\n",
    "import matplotlib as plt\n",
    "from sklearn.model_selection import train_test_split"
   ]
  },
  {
   "cell_type": "code",
   "execution_count": 2,
   "metadata": {},
   "outputs": [],
   "source": [
    "data = pd.read_csv(\"./data/diabetes.csv\")"
   ]
  },
  {
   "cell_type": "code",
   "execution_count": null,
   "metadata": {},
   "outputs": [],
   "source": [
    "data.head()"
   ]
  },
  {
   "cell_type": "code",
   "execution_count": null,
   "metadata": {},
   "outputs": [],
   "source": [
    "data.info()"
   ]
  },
  {
   "cell_type": "code",
   "execution_count": null,
   "metadata": {},
   "outputs": [],
   "source": [
    "data.isnull().sum()"
   ]
  },
  {
   "cell_type": "code",
   "execution_count": 3,
   "metadata": {},
   "outputs": [],
   "source": [
    "# convert to a numpy array\n",
    "tmp = data.to_numpy()\n",
    "# separate labels from values\n",
    "x_values, y_values = tmp[:,:-1], tmp[:,-1]\n",
    "# Free the unnecessary space.\n",
    "del data\n",
    "del tmp"
   ]
  },
  {
   "cell_type": "code",
   "execution_count": 4,
   "metadata": {},
   "outputs": [],
   "source": [
    "# split into training and testing set\n",
    "x_train, x_test, y_train, y_test = train_test_split(x_values, y_values, test_size=0.33, random_state=17)"
   ]
  },
  {
   "cell_type": "code",
   "execution_count": 12,
   "metadata": {},
   "outputs": [
    {
     "name": "stdout",
     "output_type": "stream",
     "text": [
      "(514, 8)\n"
     ]
    }
   ],
   "source": [
    "print(x_train.shape)"
   ]
  },
  {
   "cell_type": "markdown",
   "metadata": {},
   "source": [
    "## Attempt using convoluted neural networks\n",
    "I will try to solve this using neural networks, using tensorflow "
   ]
  },
  {
   "cell_type": "code",
   "execution_count": 5,
   "metadata": {},
   "outputs": [],
   "source": [
    "import tensorflow as tf"
   ]
  },
  {
   "cell_type": "code",
   "execution_count": 6,
   "metadata": {},
   "outputs": [],
   "source": [
    "class myCallback(tf.keras.callbacks.Callback):\n",
    "      def on_epoch_end(self, epoch, logs={}):\n",
    "        if(logs.get('acc') != None) and (logs.get('acc') >= 0.998): # Experiment with changing this value\n",
    "          print(\"\\nReached 99.8% accuracy so cancelling training!\")\n",
    "          self.model.stop_training = True\n",
    "\n",
    "callbacks = myCallback()"
   ]
  },
  {
   "cell_type": "code",
   "execution_count": 10,
   "metadata": {},
   "outputs": [],
   "source": [
    "model = tf.keras.models.Sequential([\n",
    "    tf.keras.layers.Flatten(),\n",
    "    tf.keras.layers.Dense(16, activation='relu'),\n",
    "    tf.keras.layers.Dense(32, activation='relu'),\n",
    "    tf.keras.layers.Dense(64, activation=tf.nn.leaky_relu),\n",
    "    tf.keras.layers.Dense(128, activation='relu'),\n",
    "    tf.keras.layers.Dense(1, activation='sigmoid')\n",
    "])\n",
    "\n",
    "model.compile(loss='binary_crossentropy',\n",
    "    optimizer='adam',\n",
    "    metrics=['accuracy'])"
   ]
  },
  {
   "cell_type": "code",
   "execution_count": 17,
   "metadata": {},
   "outputs": [
    {
     "name": "stdout",
     "output_type": "stream",
     "text": [
      "Epoch 1/50\n",
      "50/50 [==============================] - 0s 2ms/step - loss: 0.1195 - accuracy: 0.9488\n",
      "Epoch 2/50\n",
      "50/50 [==============================] - 0s 2ms/step - loss: 0.0768 - accuracy: 0.9744\n",
      "Epoch 3/50\n",
      "50/50 [==============================] - 0s 2ms/step - loss: 0.0792 - accuracy: 0.9726\n",
      "Epoch 4/50\n",
      "50/50 [==============================] - 0s 2ms/step - loss: 0.0770 - accuracy: 0.9744\n",
      "Epoch 5/50\n",
      "50/50 [==============================] - 0s 2ms/step - loss: 0.0738 - accuracy: 0.9744\n",
      "Epoch 6/50\n",
      "50/50 [==============================] - 0s 2ms/step - loss: 0.0744 - accuracy: 0.9744\n",
      "Epoch 7/50\n",
      "50/50 [==============================] - 0s 2ms/step - loss: 0.0708 - accuracy: 0.9744\n",
      "Epoch 8/50\n",
      "50/50 [==============================] - 0s 2ms/step - loss: 0.0619 - accuracy: 0.9781\n",
      "Epoch 9/50\n",
      "50/50 [==============================] - 0s 2ms/step - loss: 0.0709 - accuracy: 0.9781\n",
      "Epoch 10/50\n",
      "50/50 [==============================] - 0s 2ms/step - loss: 0.0647 - accuracy: 0.9835\n",
      "Epoch 11/50\n",
      "50/50 [==============================] - 0s 2ms/step - loss: 0.0753 - accuracy: 0.9689\n",
      "Epoch 12/50\n",
      "50/50 [==============================] - 0s 2ms/step - loss: 0.0662 - accuracy: 0.9799\n",
      "Epoch 13/50\n",
      "50/50 [==============================] - 0s 2ms/step - loss: 0.0631 - accuracy: 0.9835\n",
      "Epoch 14/50\n",
      "50/50 [==============================] - 0s 2ms/step - loss: 0.0621 - accuracy: 0.9781\n",
      "Epoch 15/50\n",
      "50/50 [==============================] - 0s 2ms/step - loss: 0.0754 - accuracy: 0.9707\n",
      "Epoch 16/50\n",
      "50/50 [==============================] - 0s 2ms/step - loss: 0.0740 - accuracy: 0.9761\n",
      "Epoch 17/50\n",
      "50/50 [==============================] - 0s 2ms/step - loss: 0.0600 - accuracy: 0.9890\n",
      "Epoch 18/50\n",
      "50/50 [==============================] - 0s 2ms/step - loss: 0.0705 - accuracy: 0.9781\n",
      "Epoch 19/50\n",
      "50/50 [==============================] - 0s 2ms/step - loss: 0.0621 - accuracy: 0.9835\n",
      "Epoch 20/50\n",
      "50/50 [==============================] - 0s 2ms/step - loss: 0.0772 - accuracy: 0.9707\n",
      "Epoch 21/50\n",
      "50/50 [==============================] - 0s 2ms/step - loss: 0.0811 - accuracy: 0.9744\n",
      "Epoch 22/50\n",
      "50/50 [==============================] - 0s 2ms/step - loss: 0.0698 - accuracy: 0.9726\n",
      "Epoch 23/50\n",
      "50/50 [==============================] - 0s 2ms/step - loss: 0.0809 - accuracy: 0.9653\n",
      "Epoch 24/50\n",
      "50/50 [==============================] - 0s 2ms/step - loss: 0.0599 - accuracy: 0.9781\n",
      "Epoch 25/50\n",
      "50/50 [==============================] - 0s 1ms/step - loss: 0.0919 - accuracy: 0.9616\n",
      "Epoch 26/50\n",
      "50/50 [==============================] - 0s 2ms/step - loss: 0.1074 - accuracy: 0.9506\n",
      "Epoch 27/50\n",
      "50/50 [==============================] - 0s 2ms/step - loss: 0.1047 - accuracy: 0.9543\n",
      "Epoch 28/50\n",
      "50/50 [==============================] - 0s 1ms/step - loss: 0.0848 - accuracy: 0.9653\n",
      "Epoch 29/50\n",
      "50/50 [==============================] - 0s 1ms/step - loss: 0.1244 - accuracy: 0.9561\n",
      "Epoch 30/50\n",
      "50/50 [==============================] - 0s 3ms/step - loss: 0.1315 - accuracy: 0.9506\n",
      "Epoch 31/50\n",
      "50/50 [==============================] - 0s 2ms/step - loss: 0.1301 - accuracy: 0.9452\n",
      "Epoch 32/50\n",
      "50/50 [==============================] - 0s 2ms/step - loss: 0.1031 - accuracy: 0.9596\n",
      "Epoch 33/50\n",
      "50/50 [==============================] - 0s 2ms/step - loss: 0.1091 - accuracy: 0.9561\n",
      "Epoch 34/50\n",
      "50/50 [==============================] - 0s 1ms/step - loss: 0.1094 - accuracy: 0.9506\n",
      "Epoch 35/50\n",
      "50/50 [==============================] - 0s 1ms/step - loss: 0.2282 - accuracy: 0.9122\n",
      "Epoch 36/50\n",
      "50/50 [==============================] - 0s 1ms/step - loss: 0.2476 - accuracy: 0.9068\n",
      "Epoch 37/50\n",
      "50/50 [==============================] - 0s 1ms/step - loss: 0.1700 - accuracy: 0.9287\n",
      "Epoch 38/50\n",
      "50/50 [==============================] - 0s 1ms/step - loss: 0.1412 - accuracy: 0.9415\n",
      "Epoch 39/50\n",
      "50/50 [==============================] - 0s 1ms/step - loss: 0.0903 - accuracy: 0.9707\n",
      "Epoch 40/50\n",
      "50/50 [==============================] - 0s 1ms/step - loss: 0.1088 - accuracy: 0.9470\n",
      "Epoch 41/50\n",
      "50/50 [==============================] - 0s 1ms/step - loss: 0.0810 - accuracy: 0.9671\n",
      "Epoch 42/50\n",
      "50/50 [==============================] - 0s 2ms/step - loss: 0.0705 - accuracy: 0.9781\n",
      "Epoch 43/50\n",
      "50/50 [==============================] - 0s 1ms/step - loss: 0.0583 - accuracy: 0.9799\n",
      "Epoch 44/50\n",
      "50/50 [==============================] - 0s 1ms/step - loss: 0.0470 - accuracy: 0.9945\n",
      "Epoch 45/50\n",
      "50/50 [==============================] - 0s 1ms/step - loss: 0.0608 - accuracy: 0.9744\n",
      "Epoch 46/50\n",
      "50/50 [==============================] - 0s 2ms/step - loss: 0.0610 - accuracy: 0.9799\n",
      "Epoch 47/50\n",
      "50/50 [==============================] - 0s 2ms/step - loss: 0.0660 - accuracy: 0.9724\n",
      "Epoch 48/50\n",
      "WARNING:tensorflow:Your input ran out of data; interrupting training. Make sure that your dataset or generator can generate at least `steps_per_epoch * epochs` batches (in this case, 2500 batches). You may need to use the repeat() function when building your dataset.\n",
      "50/50 [==============================] - 0s 160us/step - loss: 0.0660 - accuracy: 0.9724\n"
     ]
    }
   ],
   "source": [
    "history = model.fit(\n",
    "    x_train, \n",
    "    y_train, \n",
    "    steps_per_epoch=50,\n",
    "    epochs=50, \n",
    "    callbacks=[callbacks]\n",
    ")"
   ]
  },
  {
   "cell_type": "code",
   "execution_count": 18,
   "metadata": {},
   "outputs": [
    {
     "name": "stdout",
     "output_type": "stream",
     "text": [
      "8/8 [==============================] - 0s 1ms/step - loss: 1.8082 - accuracy: 0.7008\n"
     ]
    },
    {
     "data": {
      "text/plain": [
       "[1.808233618736267, 0.7007874250411987]"
      ]
     },
     "execution_count": 18,
     "metadata": {},
     "output_type": "execute_result"
    }
   ],
   "source": [
    "model.evaluate(x_test, y_test)"
   ]
  }
 ],
 "metadata": {
  "interpreter": {
   "hash": "85c613298e2573a698747096a05ed0fa75bd0f57ffe828e7c5873ae05c08a3c6"
  },
  "kernelspec": {
   "display_name": "Python 3.9.7 64-bit",
   "language": "python",
   "name": "python3"
  },
  "language_info": {
   "codemirror_mode": {
    "name": "ipython",
    "version": 3
   },
   "file_extension": ".py",
   "mimetype": "text/x-python",
   "name": "python",
   "nbconvert_exporter": "python",
   "pygments_lexer": "ipython3",
   "version": "3.9.7"
  },
  "orig_nbformat": 4
 },
 "nbformat": 4,
 "nbformat_minor": 2
}
